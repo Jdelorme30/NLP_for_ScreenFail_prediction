{
 "cells": [
  {
   "cell_type": "markdown",
   "metadata": {},
   "source": [
    "[<img  align=\"right\" src=\"https://www.gustaveroussy.fr/sites/all/themes/gustave_roussy/logo.png\">](https://www.gustaveroussy.fr/)\n",
    "# ScreenFail prediction \n",
    "*Modelisation with Random Forest to predict if a patient will be Screen Fail or not*"
   ]
  },
  {
   "cell_type": "markdown",
   "metadata": {},
   "source": [
    "### "
   ]
  },
  {
   "cell_type": "code",
   "execution_count": 32,
   "metadata": {},
   "outputs": [],
   "source": [
    "# Import necessary librairies\n",
    "import os\n",
    "\n",
    "import pandas as pd\n",
    "import numpy as np\n",
    "np.random.seed(42)\n",
    "import matplotlib.pyplot as plt\n",
    "\n",
    "from sklearn.model_selection import cross_val_score, StratifiedShuffleSplit, GridSearchCV, train_test_split,RandomizedSearchCV\n",
    "from sklearn.metrics import roc_curve, precision_recall_curve, confusion_matrix, average_precision_score, \\\n",
    "    classification_report, recall_score, f1_score, roc_auc_score, make_scorer, auc\n",
    "from sklearn.covariance import EmpiricalCovariance\n",
    "from sklearn.linear_model import LogisticRegression\n",
    "from sklearn.ensemble import RandomForestClassifier, BaggingClassifier, GradientBoostingClassifier\n",
    "from sklearn.inspection import permutation_importance\n",
    "from gensim.models import Word2Vec, KeyedVectors \n",
    "\n",
    "import seaborn as sns\n",
    "from sklearn.cluster import KMeans, AgglomerativeClustering, SpectralClustering, Birch, DBSCAN\n",
    "\n",
    "from w2v_clusters import WordClustering\n",
    "from pre_process import process\n",
    "\n",
    "import shap\n"
   ]
  },
  {
   "cell_type": "markdown",
   "metadata": {},
   "source": [
    "*Load and prepares EHRs for further processing*"
   ]
  },
  {
   "cell_type": "code",
   "execution_count": 59,
   "metadata": {},
   "outputs": [
    {
     "data": {
      "text/plain": [
       "0    920\n",
       "1    697\n",
       "Name: screenfail, dtype: int64"
      ]
     },
     "execution_count": 59,
     "metadata": {},
     "output_type": "execute_result"
    }
   ],
   "source": [
    "# Load EHRs\n",
    "df_all=pd.read_csv(os.path.join(\"./Data\", \"df_CRs_inclusion.csv\"), encoding='utf-8')\n",
    "df_all=df_all[df_all['CompleteValues']]\n",
    "\n",
    "# Separe Test and Train/Validation sets\n",
    "split = df_all['Cohort']\n",
    "\n",
    "ehr_raw_train_val=df_all[split!=\"Test\"].value.apply(str)\n",
    "ehr_raw_test=df_all[split==\"Test\"].value.apply(str)\n",
    "\n",
    "y_train_val=df_all.loc[split!=\"Test\"].screenfail\n",
    "y_test=df_all.loc[split==\"Test\"].screenfail\n",
    "pd.value_counts(y_train_val) # give numbers of ScreenFail in test and val cohort\n"
   ]
  },
  {
   "cell_type": "code",
   "execution_count": 96,
   "metadata": {},
   "outputs": [
    {
     "name": "stdout",
     "output_type": "stream",
     "text": [
      "1337\n"
     ]
    }
   ],
   "source": [
    "print(len(y_train))\n"
   ]
  },
  {
   "cell_type": "markdown",
   "metadata": {},
   "source": [
    "*Processing of EHRS*"
   ]
  },
  {
   "cell_type": "code",
   "execution_count": 5,
   "metadata": {},
   "outputs": [],
   "source": [
    "# Preprocessing using spacy: html,stopwords,ponctuation and lemmatisation\n",
    "  \n",
    "ehr_train_val=ehr_raw_train_val.apply(process)    \n",
    "ehr_test=ehr_raw_test.apply(process)    \n",
    "\n",
    "# Delete empty health records\n",
    "ehr_train_val = pd.DataFrame(data=ehr_train_val)\n",
    "ehr_test = pd.DataFrame(data=ehr_test)\n",
    "\n",
    "# Found index of null DafaFrames and delete them\n",
    "index_with_nan_train_val = ehr_train_val.index[ehr_train_val.isnull().any(axis=1)]\n",
    "index_with_nan_test = ehr_test.index[ehr_test.isnull().any(axis=1)]\n",
    "\n",
    "ehr_train_val=ehr_train_val.drop(index_with_nan_train_val,0, inplace=False)\n",
    "ehr_test=ehr_test.drop(index_with_nan_test,0, inplace=False)\n",
    "\n",
    "ehr_train_val=pd.Series(ehr_train_val.value) \n",
    "ehr_test=pd.Series(ehr_test.value)\n",
    "\n",
    "y_train_val=y_train_val.drop(index_with_nan_train_val,0, inplace=False)\n",
    "y_test=y_test.drop(index_with_nan_test,0, inplace=False)\n",
    "\n"
   ]
  },
  {
   "cell_type": "code",
   "execution_count": 64,
   "metadata": {},
   "outputs": [
    {
     "name": "stdout",
     "output_type": "stream",
     "text": [
      "Int64Index([101, 108, 531, 1006], dtype='int64')\n"
     ]
    }
   ],
   "source": [
    "print(len())"
   ]
  },
  {
   "cell_type": "markdown",
   "metadata": {},
   "source": [
    "*Separe Training and validation test*"
   ]
  },
  {
   "cell_type": "code",
   "execution_count": 6,
   "metadata": {},
   "outputs": [],
   "source": [
    "split=split.drop(index_with_nan_train_val,0, inplace=False)\n",
    "index_val=split.index[split == \"Val\"].to_list()\n",
    "index_train=split.index[split == \"Train\"].to_list()\n",
    "DF_val=ehr_train_val[index_val]\n",
    "DF_train=ehr_train_val[index_train]\n",
    "\n",
    "y_val=y_train_val[index_val]\n",
    "y_train=y_train_val[index_train]"
   ]
  },
  {
   "cell_type": "code",
   "execution_count": 82,
   "metadata": {},
   "outputs": [
    {
     "data": {
      "text/plain": [
       "1       [onco, radiothérapie, dr, pechoux, dr, al, mok...\n",
       "2       [reunion, concertation, pluridisciplinaire, gy...\n",
       "3       [qcrcpm, moscato, cr, dicter, dr, bahleda, mr,...\n",
       "4       [patient, voir, dr, fuerea, patient, âgé, an, ...\n",
       "5       [destinataire, cte, poumon, dr, interne, dicte...\n",
       "                              ...                        \n",
       "1877    [cr, dicte, ariane, laparra, cr, tape, charlen...\n",
       "1878    [cr, dicte, marie, auvray, interne, yolla, el,...\n",
       "1881    [cr, dicte, ariane, laparra, cr, tape, charlen...\n",
       "1883    [cr, dicte, ariane, laparra, cr, tape, charlen...\n",
       "1884    [cr, dicte, capucine, baldini, cr, tape, lydie...\n",
       "Name: value, Length: 1594, dtype: object"
      ]
     },
     "execution_count": 82,
     "metadata": {},
     "output_type": "execute_result"
    }
   ],
   "source": [
    "ehr_train_val"
   ]
  },
  {
   "cell_type": "markdown",
   "metadata": {},
   "source": [
    "*Initialisation of cross validation*"
   ]
  },
  {
   "cell_type": "code",
   "execution_count": 8,
   "metadata": {},
   "outputs": [],
   "source": [
    "# CV is then performed with StratifiedShuffleSplit funtion\n",
    "cv = StratifiedShuffleSplit(n_splits=5, test_size=len(DF_val)/(len(DF_val)+len(DF_train)), random_state=42)\n",
    "scoring = {'AUC': 'roc_auc','f1':'f1', 'Recall': 'recall'}"
   ]
  },
  {
   "cell_type": "markdown",
   "metadata": {},
   "source": [
    "*Search of best numbers of clusters for transformation into cluster vectors*"
   ]
  },
  {
   "cell_type": "code",
   "execution_count": null,
   "metadata": {},
   "outputs": [],
   "source": [
    "auc_curve=[]\n",
    "f1_score_curve=[]\n",
    "recall_curve=[]\n",
    "nbe = [10,25,50,75,100,200,300,400,500,750,1000]\n",
    "\n",
    "for n in nbe:\n",
    "    \n",
    "    w2v_cluster = WordClustering( pretrained=True,\n",
    "                                  model_path=\"w2v_model.kv\",\n",
    "                                  n_clusters=n,\n",
    "                                 clustering=AgglomerativeClustering())\n",
    "\n",
    "\n",
    "    model_vectors =w2v_cluster.fit(ehr_train_val)\n",
    "\n",
    "    ehrs_vec_val=model_vectors.transform(DF_val) \n",
    "    ehrs_vec_train_val=model_vectors.transform(ehr_train_val) \n",
    "    \n",
    "    ## Random Forest and search for best parameters\n",
    "\n",
    "    rf = RandomForestClassifier(random_state=15)\n",
    "\n",
    "    params = {'n_estimators': np.arange(5, 200, 1),\n",
    "              'max_features': ['log2', 'sqrt'],\n",
    "              'min_samples_leaf': np.arange(1E-8, 0.01, 1E-8)}\n",
    "\n",
    "    grid = RandomizedSearchCV(rf,\n",
    "                        param_distributions=params,\n",
    "                        cv=cv,\n",
    "                        scoring=scoring,\n",
    "                        refit='Recall',\n",
    "                        return_train_score=False,\n",
    "                        verbose=1,\n",
    "                        n_jobs=-1,\n",
    "                        random_state=42,\n",
    "                        n_iter=1200)\n",
    "\n",
    "    grid.fit(ehrs_vec_train_val, y_train_val)\n",
    "\n",
    "    y_pred_val = grid.predict(ehrs_vec_val)\n",
    "    y_probs_val = grid.predict_proba(ehrs_vec_val)\n",
    "\n",
    "    fpr, tpr, threshold = roc_curve(y_val,y_probs_val[:,1])\n",
    "    auc_curve.append(auc(fpr,tpr))    \n",
    "    f1_score_curve.append(f1_score(y_val, y_pred_val))\n",
    "    recall_curve.append(recall_score(y_val, y_pred_val))\n",
    "\n"
   ]
  },
  {
   "cell_type": "code",
   "execution_count": 94,
   "metadata": {},
   "outputs": [
    {
     "data": {
      "image/png": "[encoded data removed]",
      "text/plain": [
       "<Figure size 432x288 with 1 Axes>"
      ]
     },
     "metadata": {
      "needs_background": "light"
     },
     "output_type": "display_data"
    },
    {
     "data": {
      "text/plain": [
       "<Figure size 432x288 with 0 Axes>"
      ]
     },
     "metadata": {},
     "output_type": "display_data"
    }
   ],
   "source": [
    "# Curve of scores VS number of clusters on validation cohort\n",
    "\n",
    "plt.title('Cross validation performance')\n",
    "plt.plot(nbe, auc_curve,'r',label='AUC')\n",
    "plt.plot(nbe, f1_score_curve,'b',label='F1')\n",
    "plt.plot(nbe, recall_curve,'g',label='Recall')\n",
    "plt.legend(loc = 'lower right')\n",
    "plt.ylabel('Scores')\n",
    "plt.xlabel('Number of clusters')\n",
    "plt.show()\n",
    "plt.savefig(\"./Plots/crossValidationPerformances.pdf\")"
   ]
  },
  {
   "cell_type": "markdown",
   "metadata": {},
   "source": [
    "*Transformation into cluster vectors*"
   ]
  },
  {
   "cell_type": "code",
   "execution_count": 85,
   "metadata": {},
   "outputs": [
    {
     "name": "stdout",
     "output_type": "stream",
     "text": [
      "oui\n"
     ]
    }
   ],
   "source": [
    "w2v_cluster = WordClustering( pretrained=True,\n",
    "                              model_path=\"w2v_model.kv\",\n",
    "                              n_clusters=200,\n",
    "                             clustering=AgglomerativeClustering())\n",
    "\n",
    "\n",
    "model_vectors =w2v_cluster.fit(ehr_train_val)\n",
    "\n",
    "ehrs_vec_train_val=model_vectors.transform(ehr_train_val)\n",
    "#x_w2v2_val=x_w2v.transform(DF_val) ?\n",
    "#x_w2v2_train=x_w2v.transform(DF_train) ?\n",
    "ehrs_vec_test=model_vectors.transform(ehr_test)"
   ]
  },
  {
   "cell_type": "markdown",
   "metadata": {},
   "source": [
    "*Random Forest and search for best parameters*"
   ]
  },
  {
   "cell_type": "code",
   "execution_count": 86,
   "metadata": {},
   "outputs": [
    {
     "name": "stdout",
     "output_type": "stream",
     "text": [
      "Fitting 5 folds for each of 1200 candidates, totalling 6000 fits\n"
     ]
    },
    {
     "name": "stderr",
     "output_type": "stream",
     "text": [
      "[Parallel(n_jobs=-1)]: Using backend LokyBackend with 8 concurrent workers.\n",
      "[Parallel(n_jobs=-1)]: Done  34 tasks      | elapsed:    3.5s\n",
      "[Parallel(n_jobs=-1)]: Done 184 tasks      | elapsed:   16.1s\n",
      "[Parallel(n_jobs=-1)]: Done 434 tasks      | elapsed:   39.4s\n",
      "[Parallel(n_jobs=-1)]: Done 784 tasks      | elapsed:  1.1min\n",
      "[Parallel(n_jobs=-1)]: Done 1234 tasks      | elapsed:  1.8min\n",
      "[Parallel(n_jobs=-1)]: Done 1784 tasks      | elapsed:  2.5min\n",
      "[Parallel(n_jobs=-1)]: Done 2434 tasks      | elapsed:  3.5min\n",
      "[Parallel(n_jobs=-1)]: Done 3184 tasks      | elapsed:  4.7min\n",
      "[Parallel(n_jobs=-1)]: Done 4034 tasks      | elapsed:  5.7min\n",
      "[Parallel(n_jobs=-1)]: Done 4984 tasks      | elapsed:  7.2min\n",
      "[Parallel(n_jobs=-1)]: Done 6000 out of 6000 | elapsed:  8.8min finished\n"
     ]
    }
   ],
   "source": [
    "\n",
    "rf = RandomForestClassifier(random_state=15)\n",
    "\n",
    "params = {'n_estimators': np.arange(5, 200, 1),\n",
    "          'max_features': ['log2', 'sqrt'],\n",
    "          'min_samples_leaf': np.arange(1E-8, 0.01, 1E-8)}\n",
    "\n",
    "grid = RandomizedSearchCV(rf,\n",
    "                    param_distributions=params,\n",
    "                    cv=cv,\n",
    "                    scoring=scoring,\n",
    "                    refit='Recall',\n",
    "                    return_train_score=False,\n",
    "                    verbose=1,\n",
    "                    n_jobs=-1,\n",
    "                    random_state=42,\n",
    "                    n_iter=1200)\n",
    "\n",
    "grid.fit(ehrs_vec_train_val, y_train_val)\n",
    "\n",
    "y_pred_train_val = grid.predict(ehrs_vec_train_val)\n"
   ]
  },
  {
   "cell_type": "markdown",
   "metadata": {},
   "source": [
    "Results"
   ]
  },
  {
   "cell_type": "code",
   "execution_count": 97,
   "metadata": {},
   "outputs": [
    {
     "name": "stdout",
     "output_type": "stream",
     "text": [
      "Les meilleurs paramètres sont : {'n_estimators': 187, 'min_samples_leaf': 0.0007037, 'max_features': 'sqrt'}\n",
      "Results for test set  \n",
      "\n",
      "\n",
      "confusion matrix: [[136  23]\n",
      " [ 20  85]] \n",
      "\n",
      "score auc:  0.8804731955675352 \n",
      "\n",
      "score f1:  0.7981220657276996 \n",
      "\n",
      "score recall:  0.8095238095238095 \n",
      "\n",
      "Results for training and validation set  \n",
      "\n",
      "\n",
      "confusion matrix: [[901   0]\n",
      " [  4 689]] \n",
      "\n",
      "score auc:  0.999770176795704 \n",
      "\n",
      "score f1:  0.9971056439942113 \n",
      "\n",
      "score recall:  0.9942279942279942 \n",
      "\n"
     ]
    }
   ],
   "source": [
    "best_params=grid.best_params_ # store best parameters of the random forest\n",
    "\n",
    "print(\"Les meilleurs paramètres sont :\", best_params)\n",
    "y_pred_train_val = grid.predict(ehrs_vec_train_val)\n",
    "y_prob_train_val = grid.predict_proba(ehrs_vec_train_val) # get probabilities of each class\n",
    "\n",
    "y_pred_test = grid.predict(ehrs_vec_test)\n",
    "y_prob_test = grid.predict_proba(ehrs_vec_test)\n",
    "\n",
    "                                                           \n",
    "### Results for test set ###\n",
    "\n",
    "print(\"Results for test set \",\"\\n\\n\")\n",
    "\n",
    "mat_test=confusion_matrix(y_test, y_pred_test)\n",
    "print(\"confusion matrix:\" , mat_test,\"\\n\")\n",
    "\n",
    "fpr_test, tpr_test, threshold_test = roc_curve(y_test,y_prob_test[:,1])\n",
    "score_auc_test = auc(fpr_test,tpr_test)\n",
    "print(\"score auc: \",score_auc_test,\"\\n\")\n",
    "\n",
    "score_f1_test=f1_score(y_test, y_pred_test)\n",
    "print(\"score f1: \",score_f1_test,\"\\n\")\n",
    "\n",
    "score_recall_test=recall_score(y_test, y_pred_test)\n",
    "print(\"score recall: \",score_recall_test ,\"\\n\")\n",
    "\n",
    "### Results for train and validation set ###\n",
    "\n",
    "print(\"Results for training and validation set \",\"\\n\\n\")\n",
    "                                               \n",
    "mat_train_val=confusion_matrix(y_train_val, y_pred_train_val)\n",
    "print(\"confusion matrix:\",mat_train_val,\"\\n\")\n",
    "                                               \n",
    "fpr_train_val, tpr_train_val, threshold_train_val = roc_curve(y_train_val,y_prob_train_val[:,1])\n",
    "score_auc_train_val=auc(fpr_train_val,tpr_train_val)\n",
    "print(\"score auc: \",score_auc_train_val,\"\\n\")\n",
    "\n",
    "score_f1_train_val=f1_score(y_train_val, y_pred_train_val)\n",
    "print(\"score f1: \",score_f1_train_val,\"\\n\")\n",
    "\n",
    "score_recall_train_val=recall_score(y_train_val, y_pred_train_val)\n",
    "print(\"score recall: \",score_recall_train_val,\"\\n\")"
   ]
  },
  {
   "cell_type": "code",
   "execution_count": 100,
   "metadata": {},
   "outputs": [
    {
     "data": {
      "text/plain": [
       "1594"
      ]
     },
     "execution_count": 100,
     "metadata": {},
     "output_type": "execute_result"
    }
   ],
   "source": [
    "len(y_train_val)"
   ]
  },
  {
   "cell_type": "code",
   "execution_count": 89,
   "metadata": {},
   "outputs": [
    {
     "data": {
      "image/png": "[encoded data removed]",
      "text/plain": [
       "<Figure size 432x288 with 1 Axes>"
      ]
     },
     "metadata": {
      "needs_background": "light"
     },
     "output_type": "display_data"
    }
   ],
   "source": [
    "plt.title('Receiver Operating Characteristic')\n",
    "plt.plot(fpr_test, tpr_test, 'b', label = 'AUC = %0.2f' % score_auc_test)\n",
    "plt.legend(loc = 'lower right')\n",
    "plt.plot([0, 1], [0, 1],'r--')\n",
    "plt.xlim([0, 1])\n",
    "plt.ylim([0, 1])\n",
    "plt.ylabel('True Positive Rate')\n",
    "plt.xlabel('False Positive Rate')\n",
    "plt.savefig(\"./Plots/roc_curve.pdf\")\n",
    "plt.show()"
   ]
  },
  {
   "cell_type": "markdown",
   "metadata": {},
   "source": [
    "Interpretation"
   ]
  },
  {
   "cell_type": "code",
   "execution_count": 91,
   "metadata": {},
   "outputs": [
    {
     "name": "stderr",
     "output_type": "stream",
     "text": [
      "Setting feature_perturbation = \"tree_path_dependent\" because no background data was given.\n"
     ]
    },
    {
     "data": {
      "image/png": "[encoded data removed]",
      "text/plain": [
       "<Figure size 360x432 with 1 Axes>"
      ]
     },
     "metadata": {
      "needs_background": "light"
     },
     "output_type": "display_data"
    }
   ],
   "source": [
    "\n",
    "best_rf=grid.best_estimator_\n",
    "\n",
    "# Shap values\n",
    "\n",
    "DF_ehr_train_val=pd.DataFrame(ehrs_vec_train_val)\n",
    "DF_ehr_train_val.columns=range(200)\n",
    "\n",
    "shap_values = shap.TreeExplainer(best_rf).shap_values(DF_ehr_train_val)\n",
    "\n",
    "shap_values=np.array(shap_values)[0]\n",
    "explainer=shap.TreeExplainer(best_rf)\n",
    "\n",
    "# The following code comes from :  https://towardsdatascience.com/explain-your-model-with-the-shap-values-bc36aac4de3d\n",
    "###\n",
    "\n",
    "shap_v = pd.DataFrame(shap_values)\n",
    "feature_list = DF_ehr_train_val.columns\n",
    "shap_v.columns = feature_list\n",
    "df_v = DF_ehr_train_val.copy().reset_index().drop('index',axis=1)\n",
    "\n",
    "# Determine the correlation in order to plot with different colors\n",
    "corr_list = list()\n",
    "for i in feature_list:\n",
    "    b = np.corrcoef(shap_v[i],df_v[i])[1][0]\n",
    "    corr_list.append(b)\n",
    "corr_df = pd.concat([pd.Series(feature_list),pd.Series(corr_list)],axis=1).fillna(0)\n",
    "# Make a data frame. Column 1 is the feature, and Column 2 is the correlation coefficient\n",
    "corr_df.columns  = ['Variable','Corr']\n",
    "corr_df['Sign'] = np.where(corr_df['Corr']>0,'red','blue')\n",
    "\n",
    "# Plot it\n",
    "shap_abs = np.abs(shap_v)\n",
    "k=pd.DataFrame(shap_abs.mean()).reset_index()\n",
    "k.columns = ['Variable','SHAP_abs']\n",
    "k2 = k.merge(corr_df,left_on = 'Variable',right_on='Variable',how='inner')\n",
    "k2 = k2.sort_values(by='SHAP_abs',ascending = True)\n",
    "colorlist = k2['Sign']\n",
    "ax = k2.plot.barh(x='Variable',y='SHAP_abs',color = colorlist, figsize=(5,6),legend=False)\n",
    "ax.set_xlabel(\"SHAP Value (Red = Negative Impact)\")\n",
    "plt.savefig(\"./Plots/SHAP_values.pdf\") \n",
    "###"
   ]
  },
  {
   "cell_type": "code",
   "execution_count": 104,
   "metadata": {},
   "outputs": [
    {
     "name": "stdout",
     "output_type": "stream",
     "text": [
      "['sang', 'bandelette', 'bu', 'pnp', 'protéine', 'perfusion', 'strictement', 'perturber', 'trace', 'nitrite', 'hématologique', 'composant', 'monoclonal', 'anémie', 'thrombopénie', 'pancytopénie', 'microbiologique', 'coprocultures', 'electrophorèse', 'neutropénie', 'normo', 'béta', 'grippe', 'vrs', 'hémoculture', 'ecbu', 'culture', 'immunofixation', 'leucopénie', 'cdc', 'lymphopénie', 'protéines', 'pct', 'germe', 'électrophorèse', 'bactériologique', 'coproculture', 'normalisation', 'antériorité', 'immunoglobuline', 'clostridium', 'bactérien', 'thrombopéni', 'parasite', 'thrombocytopénie', 'hépatalgie', 'osmolarité', 'parasitologiqu', 'exception', 'réactivation', 'postchimiothérapi', 'épigastralgie', 'ira', 'vgm', 'rectosigmoïdoscopie', 'antibiogramme', 'amylasémie', 'postprandial', 'toxine', 'parasitologique', 'revenues', 'régénérative', 'croix', 'flore', 'régénératif', 'aplasie', 'fufol', 'protéïne', 'protéïnurie', 'leucocyturie', 'pneumoniti', 'glycosurie', 'procalcitonin', 'microbien', 'normochrome', 'spp', 'vaccination', 'organique', 'hypovolémie', 'polyadénopathie', 'extracellulair', 'bgm', 'bg', 'cartographie', 'hyperéosinophilie', 'nitrites', 'leucocytose', 'gram', 'micromol', 'cétonique', 'revenant', 'hemoculture', 'bacterio', 'lymphopenie', 'hiaa', 'acd', 'afébrile', 'ecbc', 'virus', 'bacille', 'plasmatique', 'spontannément', 'epp', 'prot', 'éosinophilie', 'eosinophilie', 'aspergillair', 'infusion', 'multistix', 'cathé', 'postchimiothérapie', 'négativer', 'postchimio', 'hyperplaquettose', 'incoercible', 'gâle', 'bronchopathique', 'bactérologie', 'pho', 'vimentine', 'coccus', 'bilieux', 'eto', 'microbiologie', 'bilétéral', 'difficilé', 'antigénurie', 'légionell', 'exudatif', 'antigénémie', 'pneumocoqu', 'pneumocoque', 'glucane', 'aspergilome', 'aspergillaire', 'légionnelle', 'neutrophilique', 'fécaloïdes', 'chikungunya', 'campylobacter', 'hypernatrémie', 'prandiaux', 'kle', 'interstitielle', 'anemie', 'échohépatique', 'hyperleycocytose', 'vacciner', 'surcharg', 'antigénuries', 'différenciel', 'neutrophyle', 'albican', 'balloné', 'ppour', 'occasionnels', 'pertubation', 'hypoxi', 'magnésiémie', 'amphotericine', 'pouruite', 'thrombopenie', 'enterobacterie', 'ecouvillon', 'intracellulair', 'kaliurèse', 'reviendront', 'céto', 'bacteriologique', 'cétone', 'microglobuline', 'microcytose', 'semainer', 'parasitologie', 'éléctrophorèse', 'cnr', 'levothyroxine', 'temsirolimus', 'paraneo', 'suspend', 'hyperlymphocytose', 'rigoureusement', 'penile', 'don', 'acétone', 'hyperleucocytes', 'cortisole', 'neutropenie', 'cytaphérèser', 'electrophor', 'fragilis', 'salmonelle', 'cryoglobulinémie', 'legionelle', 'giordano', 'neuropene', 'ganglionsn', 'faussement', 'mycoplasme', 'cale', 'thrombophilie', 'irr', 'refixation', 'dtp', 'revaxis', 'chlamydia', 'mycobacterium', 'tuberculosi', 'antituberculeux', 'rifater', 'dexambutol', 'isoniazide', 'positivation', 'anticorsp', 'radiothorax', 'chlostridium', 'cetonurie', 'bacteriologie', 'thrombocytopenie', 'electrophorese', 'serique', 'leucopenie', 'remontee', 'degrad', 'artharlgie', 'streptoccoque', 'neurtropenie', 'sterile', 'bacteriologiqu', 'antigenurie', 'osmolarite', 'trombopenie', 'legionnelle', 'repetees', 'hemocultures', 'steriles', 'betad', 'proteinuries', 'prelevees', 'polynucleaire', 'einurie', 'schyzocyte', 'toxicine', 'antigenemie', 'gts', 'reactivation', 'glucan', 'normalisees', 'ese', 'fgm', 'calprotectine', 'fecale', 'toxinogene', 'antigenuries', 'mosm', 'hypermonocytose', 'fecal', 'bilirubien', 'legionnelles', 'trhombopenie', 'hystologiqu', 'mycobacteries', 'jirovecii', 'hematotoxicite', 'intervale', 'oreillon', 'intercurrents', 'ameloration', 'gonocoque', 'systematisee', 'mycelien', 'streptotest', 'multihetero', 'infectious', 'leucocyturies', 'parasytaire', 'thromboses', 'manometrie', 'virral', 'flue', 'dehos', 'enteroccocu', 'bilatearal', 'pneumocque', 'hemocoltures', 'hemoculures', 'antidiarrheiques']\n"
     ]
    }
   ],
   "source": [
    "# Print words of most important cluster\n",
    "\n",
    "words_by_cluster=model_vectors.get_clusters_words()\n",
    "print(words_by_cluster['20'])"
   ]
  },
  {
   "cell_type": "markdown",
   "metadata": {},
   "source": [
    "*T-test*"
   ]
  },
  {
   "cell_type": "code",
   "execution_count": 111,
   "metadata": {},
   "outputs": [],
   "source": [
    "# DataFrame regroupant true (SF or not SF), predicted (SF or not SF)\n",
    "\n",
    "ehr_train_val.index=range(len(ehr_train_val))\n",
    "DF_pred_true=ehr_train_val.copy()\n",
    "DF_pred_true=pd.DataFrame(DF_pred_true)\n",
    "DF_pred_true.columns=['CR']\n",
    "y_train_val.index=range(len(y_train_val))\n",
    "DF_pred_true['true SF']=y_train_val\n",
    "DF_pred_true['predicted_SF']=pd.Series(y_pred_train_val, index=DF_pred_true.index)"
   ]
  },
  {
   "cell_type": "code",
   "execution_count": 114,
   "metadata": {},
   "outputs": [],
   "source": [
    "# Difference between vectors SF or not : predicted\n",
    "\n",
    "DF_vec_trans_train_val = DF_ehr_train_val.copy()\n",
    "DF_vec_trans_train_val['predicted_SF']=pd.Series(y_pred_train_val, index=DF_vec_trans_train_val.index)\n"
   ]
  },
  {
   "cell_type": "code",
   "execution_count": 116,
   "metadata": {},
   "outputs": [
    {
     "data": {
      "image/png": "[encoded data removed]",
      "text/plain": [
       "<Figure size 432x288 with 1 Axes>"
      ]
     },
     "metadata": {
      "needs_background": "light"
     },
     "output_type": "display_data"
    }
   ],
   "source": [
    "\n",
    "# try t-test\n",
    "\n",
    "from scipy import stats\n",
    "\n",
    "DF_vec_trans_SF = DF_vec_trans_train_val[DF_vec_trans_train_val['predicted_SF']==1]\n",
    "DF_vec_trans_SF=DF_vec_trans_SF.drop(columns=['predicted_SF'])\n",
    "DF_vec_trans_SF.index=range(len(DF_vec_trans_SF))\n",
    "\n",
    "\n",
    "DF_vec_trans_nonSF = DF_vec_trans_test[DF_vec_trans_test['predicted_SF']==0]\n",
    "DF_vec_trans_nonSF=DF_vec_trans_nonSFT.drop(columns=['predicted_SF'])\n",
    "DF_vec_trans_nonSF.index=range(len(DF_vec_trans_nonSFT))\n",
    "\n",
    "statistic, pvalue = stats.ttest_ind(DF_vec_trans_SFT,DF_vec_trans_nonSFT,axis=0)\n",
    "plt.figure()\n",
    "plt.yscale('log',basey=10)\n",
    "plt.plot(range(len(pvalue)),pvalue)\n",
    "plt.xlabel('Clusters')\n",
    "plt.ylabel('p-value sorted')\n",
    "pvalue_0_05=pvalue<0.05\n",
    "DF_pvalue=pd.DataFrame(pvalue,columns=['pvalue'])\n",
    "DF_pvalue['num_cluster']=range(len(DF_pvalue))\n",
    "DF_pvalue=DF_pvalue.sort_values(by=['pvalue'])\n",
    "plot_order = DF_pvalue.sort_values(by='pvalue', ascending=True).num_cluster.values\n",
    "\n",
    "plt.yscale('log',basey=10)\n",
    "sns.barplot(x='num_cluster',y='pvalue',data=DF_pvalue,order=plot_order)\n",
    "\n",
    "pvalue_0_05=pvalue<0.05\n",
    "DF_pvalue_05=pd.DataFrame(pvalue_0_05,columns=['pvalue'])\n",
    "DF_pvalue_05['num_cluster']=range(len(DF_pvalue_05))\n",
    "DF_true=DF_pvalue_05[DF_pvalue_05['pvalue']==True]\n"
   ]
  },
  {
   "cell_type": "code",
   "execution_count": 118,
   "metadata": {},
   "outputs": [
    {
     "data": {
      "text/plain": [
       "105"
      ]
     },
     "execution_count": 118,
     "metadata": {},
     "output_type": "execute_result"
    }
   ],
   "source": [
    "len(DF_true)"
   ]
  },
  {
   "cell_type": "code",
   "execution_count": null,
   "metadata": {},
   "outputs": [],
   "source": []
  }
 ],
 "metadata": {
  "kernelspec": {
   "display_name": "Python 2",
   "language": "python",
   "name": "python2"
  },
  "language_info": {
   "codemirror_mode": {
    "name": "ipython",
    "version": 3
   },
   "file_extension": ".py",
   "mimetype": "text/x-python",
   "name": "python",
   "nbconvert_exporter": "python",
   "pygments_lexer": "ipython3",
   "version": "3.7.6"
  }
 },
 "nbformat": 4,
 "nbformat_minor": 4
}
